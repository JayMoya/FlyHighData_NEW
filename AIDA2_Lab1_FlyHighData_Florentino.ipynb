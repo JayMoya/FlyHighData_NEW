{
  "nbformat": 4,
  "nbformat_minor": 0,
  "metadata": {
    "colab": {
      "provenance": [],
      "collapsed_sections": [],
      "include_colab_link": true
    },
    "kernelspec": {
      "name": "python3",
      "display_name": "Python 3"
    },
    "language_info": {
      "name": "python"
    }
  },
  "cells": [
    {
      "cell_type": "markdown",
      "metadata": {
        "id": "view-in-github",
        "colab_type": "text"
      },
      "source": [
        "<a href=\"https://colab.research.google.com/github/JayMoya/FlyHighData_NEW/blob/main/AIDA2_Lab1_FlyHighData_Florentino.ipynb\" target=\"_parent\"><img src=\"https://colab.research.google.com/assets/colab-badge.svg\" alt=\"Open In Colab\"/></a>"
      ]
    },
    {
      "cell_type": "markdown",
      "source": [
        "**TASK 1**"
      ],
      "metadata": {
        "id": "rW4iEL5C1KJS"
      }
    },
    {
      "cell_type": "code",
      "execution_count": null,
      "metadata": {
        "id": "4GfZVuKh1IWi"
      },
      "outputs": [],
      "source": [
        "import pandas as pd"
      ]
    },
    {
      "cell_type": "code",
      "source": [
        "#Task 1 \n",
        "#variable declarations can be found on the csv file \n",
        "flyhigh_data = pd.read_csv(\"https://raw.githubusercontent.com/JayMoya/FlyHighData_NEW/main/FlyHighData.csv\")\n",
        "\n",
        "data = flyhigh_data.head() \n",
        "data \n",
        "\n",
        "\n"
      ],
      "metadata": {
        "colab": {
          "base_uri": "https://localhost:8080/",
          "height": 175
        },
        "id": "WJ0h1x3f1RvO",
        "outputId": "4c70f9e8-e0e8-4ed2-e86c-d334e4f3fa44"
      },
      "execution_count": null,
      "outputs": [
        {
          "output_type": "execute_result",
          "data": {
            "text/plain": [
              "   ID   Last Name First Name   Prelim Grade  Midterm Grade  Final Grade\n",
              "0   1      Arcera     Edhnaer          89.9           90.9         91.9\n",
              "1   2  Florentino      Angelo          89.7           91.2         91.8\n",
              "2   3    Lacambra       Jalen          88.1           93.1         91.3\n",
              "3   4        Moya       Aljay          89.3           91.3         89.1"
            ],
            "text/html": [
              "\n",
              "  <div id=\"df-12cbfbbf-3521-4f6e-a41a-e2e41f687eed\">\n",
              "    <div class=\"colab-df-container\">\n",
              "      <div>\n",
              "<style scoped>\n",
              "    .dataframe tbody tr th:only-of-type {\n",
              "        vertical-align: middle;\n",
              "    }\n",
              "\n",
              "    .dataframe tbody tr th {\n",
              "        vertical-align: top;\n",
              "    }\n",
              "\n",
              "    .dataframe thead th {\n",
              "        text-align: right;\n",
              "    }\n",
              "</style>\n",
              "<table border=\"1\" class=\"dataframe\">\n",
              "  <thead>\n",
              "    <tr style=\"text-align: right;\">\n",
              "      <th></th>\n",
              "      <th>ID</th>\n",
              "      <th>Last Name</th>\n",
              "      <th>First Name</th>\n",
              "      <th>Prelim Grade</th>\n",
              "      <th>Midterm Grade</th>\n",
              "      <th>Final Grade</th>\n",
              "    </tr>\n",
              "  </thead>\n",
              "  <tbody>\n",
              "    <tr>\n",
              "      <th>0</th>\n",
              "      <td>1</td>\n",
              "      <td>Arcera</td>\n",
              "      <td>Edhnaer</td>\n",
              "      <td>89.9</td>\n",
              "      <td>90.9</td>\n",
              "      <td>91.9</td>\n",
              "    </tr>\n",
              "    <tr>\n",
              "      <th>1</th>\n",
              "      <td>2</td>\n",
              "      <td>Florentino</td>\n",
              "      <td>Angelo</td>\n",
              "      <td>89.7</td>\n",
              "      <td>91.2</td>\n",
              "      <td>91.8</td>\n",
              "    </tr>\n",
              "    <tr>\n",
              "      <th>2</th>\n",
              "      <td>3</td>\n",
              "      <td>Lacambra</td>\n",
              "      <td>Jalen</td>\n",
              "      <td>88.1</td>\n",
              "      <td>93.1</td>\n",
              "      <td>91.3</td>\n",
              "    </tr>\n",
              "    <tr>\n",
              "      <th>3</th>\n",
              "      <td>4</td>\n",
              "      <td>Moya</td>\n",
              "      <td>Aljay</td>\n",
              "      <td>89.3</td>\n",
              "      <td>91.3</td>\n",
              "      <td>89.1</td>\n",
              "    </tr>\n",
              "  </tbody>\n",
              "</table>\n",
              "</div>\n",
              "      <button class=\"colab-df-convert\" onclick=\"convertToInteractive('df-12cbfbbf-3521-4f6e-a41a-e2e41f687eed')\"\n",
              "              title=\"Convert this dataframe to an interactive table.\"\n",
              "              style=\"display:none;\">\n",
              "        \n",
              "  <svg xmlns=\"http://www.w3.org/2000/svg\" height=\"24px\"viewBox=\"0 0 24 24\"\n",
              "       width=\"24px\">\n",
              "    <path d=\"M0 0h24v24H0V0z\" fill=\"none\"/>\n",
              "    <path d=\"M18.56 5.44l.94 2.06.94-2.06 2.06-.94-2.06-.94-.94-2.06-.94 2.06-2.06.94zm-11 1L8.5 8.5l.94-2.06 2.06-.94-2.06-.94L8.5 2.5l-.94 2.06-2.06.94zm10 10l.94 2.06.94-2.06 2.06-.94-2.06-.94-.94-2.06-.94 2.06-2.06.94z\"/><path d=\"M17.41 7.96l-1.37-1.37c-.4-.4-.92-.59-1.43-.59-.52 0-1.04.2-1.43.59L10.3 9.45l-7.72 7.72c-.78.78-.78 2.05 0 2.83L4 21.41c.39.39.9.59 1.41.59.51 0 1.02-.2 1.41-.59l7.78-7.78 2.81-2.81c.8-.78.8-2.07 0-2.86zM5.41 20L4 18.59l7.72-7.72 1.47 1.35L5.41 20z\"/>\n",
              "  </svg>\n",
              "      </button>\n",
              "      \n",
              "  <style>\n",
              "    .colab-df-container {\n",
              "      display:flex;\n",
              "      flex-wrap:wrap;\n",
              "      gap: 12px;\n",
              "    }\n",
              "\n",
              "    .colab-df-convert {\n",
              "      background-color: #E8F0FE;\n",
              "      border: none;\n",
              "      border-radius: 50%;\n",
              "      cursor: pointer;\n",
              "      display: none;\n",
              "      fill: #1967D2;\n",
              "      height: 32px;\n",
              "      padding: 0 0 0 0;\n",
              "      width: 32px;\n",
              "    }\n",
              "\n",
              "    .colab-df-convert:hover {\n",
              "      background-color: #E2EBFA;\n",
              "      box-shadow: 0px 1px 2px rgba(60, 64, 67, 0.3), 0px 1px 3px 1px rgba(60, 64, 67, 0.15);\n",
              "      fill: #174EA6;\n",
              "    }\n",
              "\n",
              "    [theme=dark] .colab-df-convert {\n",
              "      background-color: #3B4455;\n",
              "      fill: #D2E3FC;\n",
              "    }\n",
              "\n",
              "    [theme=dark] .colab-df-convert:hover {\n",
              "      background-color: #434B5C;\n",
              "      box-shadow: 0px 1px 3px 1px rgba(0, 0, 0, 0.15);\n",
              "      filter: drop-shadow(0px 1px 2px rgba(0, 0, 0, 0.3));\n",
              "      fill: #FFFFFF;\n",
              "    }\n",
              "  </style>\n",
              "\n",
              "      <script>\n",
              "        const buttonEl =\n",
              "          document.querySelector('#df-12cbfbbf-3521-4f6e-a41a-e2e41f687eed button.colab-df-convert');\n",
              "        buttonEl.style.display =\n",
              "          google.colab.kernel.accessAllowed ? 'block' : 'none';\n",
              "\n",
              "        async function convertToInteractive(key) {\n",
              "          const element = document.querySelector('#df-12cbfbbf-3521-4f6e-a41a-e2e41f687eed');\n",
              "          const dataTable =\n",
              "            await google.colab.kernel.invokeFunction('convertToInteractive',\n",
              "                                                     [key], {});\n",
              "          if (!dataTable) return;\n",
              "\n",
              "          const docLinkHtml = 'Like what you see? Visit the ' +\n",
              "            '<a target=\"_blank\" href=https://colab.research.google.com/notebooks/data_table.ipynb>data table notebook</a>'\n",
              "            + ' to learn more about interactive tables.';\n",
              "          element.innerHTML = '';\n",
              "          dataTable['output_type'] = 'display_data';\n",
              "          await google.colab.output.renderOutput(dataTable, element);\n",
              "          const docLink = document.createElement('div');\n",
              "          docLink.innerHTML = docLinkHtml;\n",
              "          element.appendChild(docLink);\n",
              "        }\n",
              "      </script>\n",
              "    </div>\n",
              "  </div>\n",
              "  "
            ]
          },
          "metadata": {},
          "execution_count": 150
        }
      ]
    },
    {
      "cell_type": "markdown",
      "source": [
        "**TASK 2**"
      ],
      "metadata": {
        "id": "RuX0dzrn1XF0"
      }
    },
    {
      "cell_type": "code",
      "source": [
        "import pandas as pd\n",
        "import os\n",
        "\n",
        "\n",
        "df = pd.read_csv(\"https://raw.githubusercontent.com/JayMoya/FlyHighData_NEW/main/FlyHighData.csv\") #class_grades CSV file to python using pandas\n",
        "\n",
        "a = df.columns\n",
        "\n",
        "class_grades_list = df.to_dict('records') #list of dictionaries where each dict is a row\n",
        "class_grade_sheet = {class_grades_row['ID']: class_grades_row for class_grades_row in class_grades_list} #creating dict from list\n",
        "\n"
      ],
      "metadata": {
        "id": "KwCXPzTB1VEq"
      },
      "execution_count": null,
      "outputs": []
    },
    {
      "cell_type": "code",
      "source": [
        "import statistics\n",
        "\n",
        "def get_grades(class_grade_sheet):\n",
        "    class_grade_sheet_semestral = {}\n",
        "    for student_id, student_grade_sheet in class_grade_sheet.items():\n",
        "        \n",
        "        total = student_grade_sheet['Prelim Grade'] + student_grade_sheet['Midterm Grade'] + student_grade_sheet['Final Grade'] #computing grades from prelims, midterm and finals\n",
        "        semestral_grade = total/3 #average grade from prelims, midterm and finals\n",
        "        student_grade_sheet.update({'semestral_grades': semestral_grade})\n",
        "\n",
        "        class_grade_sheet_semestral.update({student_id: student_grade_sheet})\n",
        "\n",
        "    return class_grade_sheet_semestral\n",
        "\n",
        "def get_class_stats(class_grade_sheet):\n",
        "\n",
        "    highest_prelim = 0\n",
        "    lowest_prelim = 0\n",
        "    highest_midterm = 0\n",
        "    lowest_midterm = 0\n",
        "    highest_final = 0\n",
        "    lowest_final = 0\n",
        "    highest_semestral = 0\n",
        "    lowest_semestral = 0\n",
        "    mean_grade = 0\n",
        "    mode_grade = 0\n",
        "    median_grade = 0\n",
        "    standard_deviation_grade = 0\n",
        "    \n",
        "    highest_prelim = max([class_grade_sheet['Prelim Grade'] for student_id, class_grade_sheet in class_grade_sheet.items()])\n",
        "    lowest_prelim = min([class_grade_sheet['Prelim Grade'] for student_id, class_grade_sheet in class_grade_sheet.items()])\n",
        "\n",
        "    highest_midterm = max([class_grade_sheet['Midterm Grade'] for student_id, class_grade_sheet in class_grade_sheet.items()])\n",
        "    lowest_midterm = min([class_grade_sheet['Midterm Grade'] for student_id, class_grade_sheet in class_grade_sheet.items()])\n",
        "\n",
        "    highest_final = max([class_grade_sheet['Final Grade'] for student_id, class_grade_sheet in class_grade_sheet.items()])\n",
        "    lowest_final = min([class_grade_sheet['Final Grade'] for student_id, class_grade_sheet in class_grade_sheet.items()])\n",
        "\n",
        "    highest_semestral = max([class_grade_sheet['semestral_grades'] for student_id, class_grade_sheet in class_grade_sheet.items()])\n",
        "    lowest_semestral = min([class_grade_sheet['semestral_grades'] for student_id, class_grade_sheet in class_grade_sheet.items()])\n",
        "\n",
        "    mean_grade = statistics.mean([class_grade_sheet['semestral_grades'] for student_id, class_grade_sheet in class_grade_sheet.items()])\n",
        "    mode_grade = max(set([class_grade_sheet['semestral_grades'] for student_id, class_grade_sheet in class_grade_sheet.items()]), key=[class_grade_sheet['semestral_grades'] for student_id, class_grade_sheet in class_grade_sheet.items()].count)\n",
        "    median_grade = statistics.median([class_grade_sheet['semestral_grades'] for student_id, class_grade_sheet in class_grade_sheet.items()])\n",
        "    standard_deviation_grade = statistics.stdev([class_grade_sheet['semestral_grades'] for student_id, class_grade_sheet in class_grade_sheet.items()])\n",
        "    \n",
        "    return{\n",
        "        'highest_prelim' : highest_prelim,\n",
        "        'lowest_prelim' : highest_prelim,\n",
        "        'highest_midterm' : highest_midterm, \n",
        "        'lowest_midterm' : lowest_midterm,\n",
        "        'highest_final' : highest_final,\n",
        "        'lowest_final' : lowest_final,\n",
        "        'highest_semestral' : highest_semestral,\n",
        "        'lowest_semestral' : lowest_semestral,\n",
        "        'mean_grade' : mean_grade,\n",
        "        'mode_grade' : mode_grade,\n",
        "        'median_grade' : median_grade,\n",
        "        'standard_deviation_grade' : standard_deviation_grade\n",
        "    }\n",
        "       \n",
        "    "
      ],
      "metadata": {
        "id": "uOfV-V331hVW"
      },
      "execution_count": null,
      "outputs": []
    },
    {
      "cell_type": "code",
      "source": [
        "class_grade_sheet_semestral = get_grades(class_grade_sheet) #This will print The prelim, midterms, and finals grades of each student\n",
        "pd.DataFrame(class_grade_sheet_semestral) #This will also print the semestral grade of each student"
      ],
      "metadata": {
        "id": "v8wZB6DF_qCO",
        "colab": {
          "base_uri": "https://localhost:8080/",
          "height": 269
        },
        "outputId": "4f836e89-88f2-4fab-8255-fd606a9a2bc7"
      },
      "execution_count": null,
      "outputs": [
        {
          "output_type": "execute_result",
          "data": {
            "text/plain": [
              "                        1           2          3      4\n",
              "ID                      1           2          3      4\n",
              "Last Name          Arcera  Florentino   Lacambra   Moya\n",
              "First Name        Edhnaer      Angelo      Jalen  Aljay\n",
              "Prelim Grade         89.9        89.7       88.1   89.3\n",
              "Midterm Grade        90.9        91.2       93.1   91.3\n",
              "Final Grade          91.9        91.8       91.3   89.1\n",
              "semestral_grades     90.9        90.9  90.833333   89.9"
            ],
            "text/html": [
              "\n",
              "  <div id=\"df-5078081a-f598-4c06-bdcb-ab70342c3bef\">\n",
              "    <div class=\"colab-df-container\">\n",
              "      <div>\n",
              "<style scoped>\n",
              "    .dataframe tbody tr th:only-of-type {\n",
              "        vertical-align: middle;\n",
              "    }\n",
              "\n",
              "    .dataframe tbody tr th {\n",
              "        vertical-align: top;\n",
              "    }\n",
              "\n",
              "    .dataframe thead th {\n",
              "        text-align: right;\n",
              "    }\n",
              "</style>\n",
              "<table border=\"1\" class=\"dataframe\">\n",
              "  <thead>\n",
              "    <tr style=\"text-align: right;\">\n",
              "      <th></th>\n",
              "      <th>1</th>\n",
              "      <th>2</th>\n",
              "      <th>3</th>\n",
              "      <th>4</th>\n",
              "    </tr>\n",
              "  </thead>\n",
              "  <tbody>\n",
              "    <tr>\n",
              "      <th>ID</th>\n",
              "      <td>1</td>\n",
              "      <td>2</td>\n",
              "      <td>3</td>\n",
              "      <td>4</td>\n",
              "    </tr>\n",
              "    <tr>\n",
              "      <th>Last Name</th>\n",
              "      <td>Arcera</td>\n",
              "      <td>Florentino</td>\n",
              "      <td>Lacambra</td>\n",
              "      <td>Moya</td>\n",
              "    </tr>\n",
              "    <tr>\n",
              "      <th>First Name</th>\n",
              "      <td>Edhnaer</td>\n",
              "      <td>Angelo</td>\n",
              "      <td>Jalen</td>\n",
              "      <td>Aljay</td>\n",
              "    </tr>\n",
              "    <tr>\n",
              "      <th>Prelim Grade</th>\n",
              "      <td>89.9</td>\n",
              "      <td>89.7</td>\n",
              "      <td>88.1</td>\n",
              "      <td>89.3</td>\n",
              "    </tr>\n",
              "    <tr>\n",
              "      <th>Midterm Grade</th>\n",
              "      <td>90.9</td>\n",
              "      <td>91.2</td>\n",
              "      <td>93.1</td>\n",
              "      <td>91.3</td>\n",
              "    </tr>\n",
              "    <tr>\n",
              "      <th>Final Grade</th>\n",
              "      <td>91.9</td>\n",
              "      <td>91.8</td>\n",
              "      <td>91.3</td>\n",
              "      <td>89.1</td>\n",
              "    </tr>\n",
              "    <tr>\n",
              "      <th>semestral_grades</th>\n",
              "      <td>90.9</td>\n",
              "      <td>90.9</td>\n",
              "      <td>90.833333</td>\n",
              "      <td>89.9</td>\n",
              "    </tr>\n",
              "  </tbody>\n",
              "</table>\n",
              "</div>\n",
              "      <button class=\"colab-df-convert\" onclick=\"convertToInteractive('df-5078081a-f598-4c06-bdcb-ab70342c3bef')\"\n",
              "              title=\"Convert this dataframe to an interactive table.\"\n",
              "              style=\"display:none;\">\n",
              "        \n",
              "  <svg xmlns=\"http://www.w3.org/2000/svg\" height=\"24px\"viewBox=\"0 0 24 24\"\n",
              "       width=\"24px\">\n",
              "    <path d=\"M0 0h24v24H0V0z\" fill=\"none\"/>\n",
              "    <path d=\"M18.56 5.44l.94 2.06.94-2.06 2.06-.94-2.06-.94-.94-2.06-.94 2.06-2.06.94zm-11 1L8.5 8.5l.94-2.06 2.06-.94-2.06-.94L8.5 2.5l-.94 2.06-2.06.94zm10 10l.94 2.06.94-2.06 2.06-.94-2.06-.94-.94-2.06-.94 2.06-2.06.94z\"/><path d=\"M17.41 7.96l-1.37-1.37c-.4-.4-.92-.59-1.43-.59-.52 0-1.04.2-1.43.59L10.3 9.45l-7.72 7.72c-.78.78-.78 2.05 0 2.83L4 21.41c.39.39.9.59 1.41.59.51 0 1.02-.2 1.41-.59l7.78-7.78 2.81-2.81c.8-.78.8-2.07 0-2.86zM5.41 20L4 18.59l7.72-7.72 1.47 1.35L5.41 20z\"/>\n",
              "  </svg>\n",
              "      </button>\n",
              "      \n",
              "  <style>\n",
              "    .colab-df-container {\n",
              "      display:flex;\n",
              "      flex-wrap:wrap;\n",
              "      gap: 12px;\n",
              "    }\n",
              "\n",
              "    .colab-df-convert {\n",
              "      background-color: #E8F0FE;\n",
              "      border: none;\n",
              "      border-radius: 50%;\n",
              "      cursor: pointer;\n",
              "      display: none;\n",
              "      fill: #1967D2;\n",
              "      height: 32px;\n",
              "      padding: 0 0 0 0;\n",
              "      width: 32px;\n",
              "    }\n",
              "\n",
              "    .colab-df-convert:hover {\n",
              "      background-color: #E2EBFA;\n",
              "      box-shadow: 0px 1px 2px rgba(60, 64, 67, 0.3), 0px 1px 3px 1px rgba(60, 64, 67, 0.15);\n",
              "      fill: #174EA6;\n",
              "    }\n",
              "\n",
              "    [theme=dark] .colab-df-convert {\n",
              "      background-color: #3B4455;\n",
              "      fill: #D2E3FC;\n",
              "    }\n",
              "\n",
              "    [theme=dark] .colab-df-convert:hover {\n",
              "      background-color: #434B5C;\n",
              "      box-shadow: 0px 1px 3px 1px rgba(0, 0, 0, 0.15);\n",
              "      filter: drop-shadow(0px 1px 2px rgba(0, 0, 0, 0.3));\n",
              "      fill: #FFFFFF;\n",
              "    }\n",
              "  </style>\n",
              "\n",
              "      <script>\n",
              "        const buttonEl =\n",
              "          document.querySelector('#df-5078081a-f598-4c06-bdcb-ab70342c3bef button.colab-df-convert');\n",
              "        buttonEl.style.display =\n",
              "          google.colab.kernel.accessAllowed ? 'block' : 'none';\n",
              "\n",
              "        async function convertToInteractive(key) {\n",
              "          const element = document.querySelector('#df-5078081a-f598-4c06-bdcb-ab70342c3bef');\n",
              "          const dataTable =\n",
              "            await google.colab.kernel.invokeFunction('convertToInteractive',\n",
              "                                                     [key], {});\n",
              "          if (!dataTable) return;\n",
              "\n",
              "          const docLinkHtml = 'Like what you see? Visit the ' +\n",
              "            '<a target=\"_blank\" href=https://colab.research.google.com/notebooks/data_table.ipynb>data table notebook</a>'\n",
              "            + ' to learn more about interactive tables.';\n",
              "          element.innerHTML = '';\n",
              "          dataTable['output_type'] = 'display_data';\n",
              "          await google.colab.output.renderOutput(dataTable, element);\n",
              "          const docLink = document.createElement('div');\n",
              "          docLink.innerHTML = docLinkHtml;\n",
              "          element.appendChild(docLink);\n",
              "        }\n",
              "      </script>\n",
              "    </div>\n",
              "  </div>\n",
              "  "
            ]
          },
          "metadata": {},
          "execution_count": 165
        }
      ]
    },
    {
      "cell_type": "code",
      "source": [
        "finalresult = get_class_stats(class_grade_sheet)\n",
        "\n",
        "print(finalresult)"
      ],
      "metadata": {
        "colab": {
          "base_uri": "https://localhost:8080/"
        },
        "id": "-sXnnA-YX1-x",
        "outputId": "469cb7db-8d6c-46ba-eb86-07ab1f35736d"
      },
      "execution_count": null,
      "outputs": [
        {
          "output_type": "stream",
          "name": "stdout",
          "text": [
            "{'highest_prelim': 89.9, 'lowest_prelim': 89.9, 'highest_midterm': 93.1, 'lowest_midterm': 90.9, 'highest_final': 91.9, 'lowest_final': 89.1, 'highest_semestral': 90.90000000000002, 'lowest_semestral': 89.89999999999999, 'mean_grade': 90.63333333333333, 'mode_grade': 90.83333333333333, 'median_grade': 90.86666666666666, 'standard_deviation_grade': 0.48989794855664126}\n"
          ]
        }
      ]
    },
    {
      "cell_type": "markdown",
      "source": [
        "**TASK 3**"
      ],
      "metadata": {
        "id": "oRnzadxzFvt6"
      }
    },
    {
      "cell_type": "markdown",
      "source": [
        "**1.1**"
      ],
      "metadata": {
        "id": "DSupvytglTq9"
      }
    },
    {
      "cell_type": "markdown",
      "source": [
        "Optimize get_grades() by eliminating for loops in your function.\n",
        "\n",
        "Create a function named get_similar_students()"
      ],
      "metadata": {
        "id": "bJGWR7oNnnCz"
      }
    },
    {
      "cell_type": "code",
      "source": [
        "import numpy as np\n",
        "\n",
        "def get_grades(class_grade_sheet):\n",
        "    class_grade_sheet_semestral = {}\n",
        "    class_grades_row_df = pd.DataFrame(list(class_grade_sheet.values()))\n",
        "    class_grades_row_df['Semestral Grades'] = class_grades_row_df.apply(lambda row: (row['Prelim Grade'] + row['Midterm Grade'] + row['Final Grade'])/3, axis=1)\n",
        "    class_grade_sheet_semestral = class_grades_row_df.set_index('ID').T.to_dict()\n",
        "    return class_grade_sheet_semestral\n",
        "\n",
        "def get_similar_students(class_grade_sheet_1, class_grade_sheet_2):\n",
        "    class_grades_row_df_1 = pd.DataFrame(list(class_grade_sheet.values()))\n",
        "    class_grades_row_df_2 = pd.DataFrame(list(class_grade_sheet.values()))\n",
        "    class_grades_row_df_1.columns = class_grades_row_df_1.columns.str.strip()\n",
        "    class_grades_row_df_2.columns = class_grades_row_df_2.columns.str.strip()\n",
        "\n",
        "    common_names = np.intersect1d(class_grades_row_df_1['First Name'] + ' ' + class_grades_row_df_1['Last Name'], class_grades_row_df_1['First Name'] + ' ' + class_grades_row_df_1['Last Name'])\n",
        "    return common_names"
      ],
      "metadata": {
        "id": "UfMXPmXllfky"
      },
      "execution_count": null,
      "outputs": []
    },
    {
      "cell_type": "code",
      "source": [
        "class_grade_sheet_semestral = get_grades(class_grade_sheet) #This will print The prelim, midterms, and finals grades of each student\n",
        "pd.DataFrame(class_grade_sheet_semestral) #This will also print the semestral grade of each student"
      ],
      "metadata": {
        "colab": {
          "base_uri": "https://localhost:8080/",
          "height": 238
        },
        "id": "13OylYcbl3KQ",
        "outputId": "843b96d2-47c0-4be4-8b66-cb93af617e3f"
      },
      "execution_count": null,
      "outputs": [
        {
          "output_type": "execute_result",
          "data": {
            "text/plain": [
              "                        1           2          3      4\n",
              "Last Name          Arcera  Florentino   Lacambra   Moya\n",
              "First Name        Edhnaer      Angelo      Jalen  Aljay\n",
              "Prelim Grade         89.9        89.7       88.1   89.3\n",
              "Midterm Grade        90.9        91.2       93.1   91.3\n",
              "Final Grade          91.9        91.8       91.3   89.1\n",
              "Semestral Grades     90.9        90.9  90.833333   89.9"
            ],
            "text/html": [
              "\n",
              "  <div id=\"df-8bce9220-75dd-49a9-b537-700e51c19053\">\n",
              "    <div class=\"colab-df-container\">\n",
              "      <div>\n",
              "<style scoped>\n",
              "    .dataframe tbody tr th:only-of-type {\n",
              "        vertical-align: middle;\n",
              "    }\n",
              "\n",
              "    .dataframe tbody tr th {\n",
              "        vertical-align: top;\n",
              "    }\n",
              "\n",
              "    .dataframe thead th {\n",
              "        text-align: right;\n",
              "    }\n",
              "</style>\n",
              "<table border=\"1\" class=\"dataframe\">\n",
              "  <thead>\n",
              "    <tr style=\"text-align: right;\">\n",
              "      <th></th>\n",
              "      <th>1</th>\n",
              "      <th>2</th>\n",
              "      <th>3</th>\n",
              "      <th>4</th>\n",
              "    </tr>\n",
              "  </thead>\n",
              "  <tbody>\n",
              "    <tr>\n",
              "      <th>Last Name</th>\n",
              "      <td>Arcera</td>\n",
              "      <td>Florentino</td>\n",
              "      <td>Lacambra</td>\n",
              "      <td>Moya</td>\n",
              "    </tr>\n",
              "    <tr>\n",
              "      <th>First Name</th>\n",
              "      <td>Edhnaer</td>\n",
              "      <td>Angelo</td>\n",
              "      <td>Jalen</td>\n",
              "      <td>Aljay</td>\n",
              "    </tr>\n",
              "    <tr>\n",
              "      <th>Prelim Grade</th>\n",
              "      <td>89.9</td>\n",
              "      <td>89.7</td>\n",
              "      <td>88.1</td>\n",
              "      <td>89.3</td>\n",
              "    </tr>\n",
              "    <tr>\n",
              "      <th>Midterm Grade</th>\n",
              "      <td>90.9</td>\n",
              "      <td>91.2</td>\n",
              "      <td>93.1</td>\n",
              "      <td>91.3</td>\n",
              "    </tr>\n",
              "    <tr>\n",
              "      <th>Final Grade</th>\n",
              "      <td>91.9</td>\n",
              "      <td>91.8</td>\n",
              "      <td>91.3</td>\n",
              "      <td>89.1</td>\n",
              "    </tr>\n",
              "    <tr>\n",
              "      <th>Semestral Grades</th>\n",
              "      <td>90.9</td>\n",
              "      <td>90.9</td>\n",
              "      <td>90.833333</td>\n",
              "      <td>89.9</td>\n",
              "    </tr>\n",
              "  </tbody>\n",
              "</table>\n",
              "</div>\n",
              "      <button class=\"colab-df-convert\" onclick=\"convertToInteractive('df-8bce9220-75dd-49a9-b537-700e51c19053')\"\n",
              "              title=\"Convert this dataframe to an interactive table.\"\n",
              "              style=\"display:none;\">\n",
              "        \n",
              "  <svg xmlns=\"http://www.w3.org/2000/svg\" height=\"24px\"viewBox=\"0 0 24 24\"\n",
              "       width=\"24px\">\n",
              "    <path d=\"M0 0h24v24H0V0z\" fill=\"none\"/>\n",
              "    <path d=\"M18.56 5.44l.94 2.06.94-2.06 2.06-.94-2.06-.94-.94-2.06-.94 2.06-2.06.94zm-11 1L8.5 8.5l.94-2.06 2.06-.94-2.06-.94L8.5 2.5l-.94 2.06-2.06.94zm10 10l.94 2.06.94-2.06 2.06-.94-2.06-.94-.94-2.06-.94 2.06-2.06.94z\"/><path d=\"M17.41 7.96l-1.37-1.37c-.4-.4-.92-.59-1.43-.59-.52 0-1.04.2-1.43.59L10.3 9.45l-7.72 7.72c-.78.78-.78 2.05 0 2.83L4 21.41c.39.39.9.59 1.41.59.51 0 1.02-.2 1.41-.59l7.78-7.78 2.81-2.81c.8-.78.8-2.07 0-2.86zM5.41 20L4 18.59l7.72-7.72 1.47 1.35L5.41 20z\"/>\n",
              "  </svg>\n",
              "      </button>\n",
              "      \n",
              "  <style>\n",
              "    .colab-df-container {\n",
              "      display:flex;\n",
              "      flex-wrap:wrap;\n",
              "      gap: 12px;\n",
              "    }\n",
              "\n",
              "    .colab-df-convert {\n",
              "      background-color: #E8F0FE;\n",
              "      border: none;\n",
              "      border-radius: 50%;\n",
              "      cursor: pointer;\n",
              "      display: none;\n",
              "      fill: #1967D2;\n",
              "      height: 32px;\n",
              "      padding: 0 0 0 0;\n",
              "      width: 32px;\n",
              "    }\n",
              "\n",
              "    .colab-df-convert:hover {\n",
              "      background-color: #E2EBFA;\n",
              "      box-shadow: 0px 1px 2px rgba(60, 64, 67, 0.3), 0px 1px 3px 1px rgba(60, 64, 67, 0.15);\n",
              "      fill: #174EA6;\n",
              "    }\n",
              "\n",
              "    [theme=dark] .colab-df-convert {\n",
              "      background-color: #3B4455;\n",
              "      fill: #D2E3FC;\n",
              "    }\n",
              "\n",
              "    [theme=dark] .colab-df-convert:hover {\n",
              "      background-color: #434B5C;\n",
              "      box-shadow: 0px 1px 3px 1px rgba(0, 0, 0, 0.15);\n",
              "      filter: drop-shadow(0px 1px 2px rgba(0, 0, 0, 0.3));\n",
              "      fill: #FFFFFF;\n",
              "    }\n",
              "  </style>\n",
              "\n",
              "      <script>\n",
              "        const buttonEl =\n",
              "          document.querySelector('#df-8bce9220-75dd-49a9-b537-700e51c19053 button.colab-df-convert');\n",
              "        buttonEl.style.display =\n",
              "          google.colab.kernel.accessAllowed ? 'block' : 'none';\n",
              "\n",
              "        async function convertToInteractive(key) {\n",
              "          const element = document.querySelector('#df-8bce9220-75dd-49a9-b537-700e51c19053');\n",
              "          const dataTable =\n",
              "            await google.colab.kernel.invokeFunction('convertToInteractive',\n",
              "                                                     [key], {});\n",
              "          if (!dataTable) return;\n",
              "\n",
              "          const docLinkHtml = 'Like what you see? Visit the ' +\n",
              "            '<a target=\"_blank\" href=https://colab.research.google.com/notebooks/data_table.ipynb>data table notebook</a>'\n",
              "            + ' to learn more about interactive tables.';\n",
              "          element.innerHTML = '';\n",
              "          dataTable['output_type'] = 'display_data';\n",
              "          await google.colab.output.renderOutput(dataTable, element);\n",
              "          const docLink = document.createElement('div');\n",
              "          docLink.innerHTML = docLinkHtml;\n",
              "          element.appendChild(docLink);\n",
              "        }\n",
              "      </script>\n",
              "    </div>\n",
              "  </div>\n",
              "  "
            ]
          },
          "metadata": {},
          "execution_count": 63
        }
      ]
    },
    {
      "cell_type": "markdown",
      "source": [
        "**2.2**"
      ],
      "metadata": {
        "id": "owWbMncTl-L4"
      }
    },
    {
      "cell_type": "markdown",
      "source": [
        "inputs: two (2) class DataFrames\n",
        "\n",
        "outputs: list of common student numbers"
      ],
      "metadata": {
        "id": "QSuI62kknbml"
      }
    },
    {
      "cell_type": "code",
      "source": [
        "xl2 = pd.ExcelFile(\"/content/Student_numbers.xlsx\")\n",
        "\n",
        "df2 = xl2.parse('Sheet1')\n",
        "Sheet1 = df2.to_dict('list')\n",
        "print(Sheet1)\n",
        "\n",
        "df3 = xl2.parse('Sheet2', header=None)\n",
        "Sheet2 = df3.to_dict('list')\n",
        "print(Sheet2)"
      ],
      "metadata": {
        "colab": {
          "base_uri": "https://localhost:8080/"
        },
        "id": "UQN8VB8YmAxW",
        "outputId": "bcb1395f-5d78-4bfb-cd59-fc08289aa536"
      },
      "execution_count": null,
      "outputs": [
        {
          "output_type": "stream",
          "name": "stdout",
          "text": [
            "{'ID': [1.0, 2.0, 3.0, 4.0], 'Student_number1': [201910958.0, 201901278.0, 201801309.0, 202106303.0]}\n",
            "{0: ['ID', 1.0, 2.0, 3.0, 4.0], 1: ['Student_number2', 201912250.0, 201597535.0, 202074526.0, 202045628.0]}\n"
          ]
        }
      ]
    },
    {
      "cell_type": "markdown",
      "source": [
        "**TASK 4**"
      ],
      "metadata": {
        "id": "B017HwTrgXne"
      }
    },
    {
      "cell_type": "markdown",
      "source": [
        "**2.2**"
      ],
      "metadata": {
        "id": "OP-cHWCMmO4g"
      }
    },
    {
      "cell_type": "markdown",
      "source": [
        "Create a method named get_failed() wherein it will create a list of all the failed students in the class"
      ],
      "metadata": {
        "id": "kDeGmnd1nU28"
      }
    },
    {
      "cell_type": "code",
      "source": [
        "import matplotlib.pyplot as plt\n",
        "import pandas as pd\n",
        "import numpy as np\n",
        "\n",
        "students = [\"Edhnaer\", \"Jalen\", \"Aljay\", \"Angelo\"]\n",
        "student_gpa = [50.9, 65, 40.6, 68.9]\n",
        "student_fail = 69.9\n",
        "\n",
        "students_dict_comp = {name:[age,gpa] for name, age, gpa in zip(students, student_ages, student_gpa)}\n",
        "print(students_dict_comp)\n",
        "\n",
        "def get_failed (students_dict_comp): \n",
        "    for student in students_dict_comp:\n",
        "        #  print(student) # Edhnaer, Jalen, Aljay, Angelo\n",
        "        student_gpa = students_dict_comp[student][1]\n",
        "        if student_gpa >= student_fail:\n",
        "            print(student, \" passed\")\n",
        "        else:\n",
        "            print(student, \" failed\")\n",
        "get_failed(students_dict_comp)"
      ],
      "metadata": {
        "colab": {
          "base_uri": "https://localhost:8080/"
        },
        "id": "vphkqlFZmLso",
        "outputId": "3030548f-89b0-4dff-991e-d581b0e6571d"
      },
      "execution_count": null,
      "outputs": [
        {
          "output_type": "stream",
          "name": "stdout",
          "text": [
            "{'Edhnaer': [24, 50.9], 'Jalen': [25, 65], 'Aljay': [22, 40.6], 'Angelo': [20, 68.9]}\n",
            "Edhnaer  failed\n",
            "Jalen  failed\n",
            "Aljay  failed\n",
            "Angelo  failed\n"
          ]
        }
      ]
    },
    {
      "cell_type": "code",
      "source": [],
      "metadata": {
        "id": "QFK5-08Opouw"
      },
      "execution_count": null,
      "outputs": []
    }
  ]
}