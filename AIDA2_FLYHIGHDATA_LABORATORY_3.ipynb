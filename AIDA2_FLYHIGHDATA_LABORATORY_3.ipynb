{
  "nbformat": 4,
  "nbformat_minor": 0,
  "metadata": {
    "colab": {
      "provenance": [],
      "collapsed_sections": [],
      "include_colab_link": true
    },
    "kernelspec": {
      "name": "python3",
      "display_name": "Python 3"
    },
    "language_info": {
      "name": "python"
    }
  },
  "cells": [
    {
      "cell_type": "markdown",
      "metadata": {
        "id": "view-in-github",
        "colab_type": "text"
      },
      "source": [
        "<a href=\"https://colab.research.google.com/github/JayMoya/FlyHighData_NEW/blob/main/AIDA2_FLYHIGHDATA_LABORATORY_3.ipynb\" target=\"_parent\"><img src=\"https://colab.research.google.com/assets/colab-badge.svg\" alt=\"Open In Colab\"/></a>"
      ]
    },
    {
      "cell_type": "markdown",
      "source": [
        "# Topic 02: Review of Linear Algebra\n",
        "$_{\\text{©D.J. Lopez | 2021 | Fudamentals of Machine Learning}}$\n",
        "\n",
        "Linear algebra is undoubtfully one of the foundations of Machine Learning. Through linear algebra, we can perform more optimized techniques in computing an array of numbers wherein mostly used in Machine Learning. In this chapter, we are going to review the concepts, theories, and operations in Linear Algebra that are useful in Machine Learning. For this notebook we will be covering the following topics:\n",
        "* Vector and Matrix Representation\n",
        "* Linear Transformation and Matrix Operations\n",
        "* Vectorization"
      ],
      "metadata": {
        "id": "-6-gWan-ua_c"
      }
    },
    {
      "cell_type": "markdown",
      "source": [
        "### Types of Matrices"
      ],
      "metadata": {
        "id": "Vc1LwBsAua52"
      }
    },
    {
      "cell_type": "code",
      "execution_count": null,
      "metadata": {
        "id": "S6Fwh6_KotA1",
        "colab": {
          "base_uri": "https://localhost:8080/"
        },
        "outputId": "a012e839-e3c4-45d2-d785-ce0f18fa4c99"
      },
      "outputs": [
        {
          "output_type": "stream",
          "name": "stdout",
          "text": [
            "Matrix:\n",
            "[[0. 0. 0. 0.]\n",
            " [0. 0. 0. 0.]\n",
            " [0. 0. 0. 0.]\n",
            " [0. 0. 0. 0.]]\n",
            "\n",
            "Shape:\t(4, 4)\n",
            "Size: \t16\n",
            "Rank:\t2\n",
            "Is Square: True\n",
            "Zero: True\n",
            "Ones: False\n",
            "Identity: False\n",
            "~~~~~~~~~~~~~~~~~~~~~~~~~~~~~~~~~~~~~~~~~~~~~~~~~~~~~~~~~~~~\n",
            "Matrix:\n",
            "[[1. 1. 1. 1. 1.]\n",
            " [1. 1. 1. 1. 1.]\n",
            " [1. 1. 1. 1. 1.]\n",
            " [1. 1. 1. 1. 1.]\n",
            " [1. 1. 1. 1. 1.]]\n",
            "\n",
            "Shape:\t(5, 5)\n",
            "Size: \t25\n",
            "Rank:\t2\n",
            "Is Square: True\n",
            "Zero: False\n",
            "Ones: True\n",
            "Identity: False\n",
            "~~~~~~~~~~~~~~~~~~~~~~~~~~~~~~~~~~~~~~~~~~~~~~~~~~~~~~~~~~~~\n",
            "Matrix:\n",
            "[[1. 0. 0.]\n",
            " [0. 1. 0.]\n",
            " [0. 0. 1.]]\n",
            "\n",
            "Shape:\t(3, 3)\n",
            "Size: \t9\n",
            "Rank:\t2\n",
            "Is Square: True\n",
            "Zero: False\n",
            "Ones: False\n",
            "Identity: True\n",
            "~~~~~~~~~~~~~~~~~~~~~~~~~~~~~~~~~~~~~~~~~~~~~~~~~~~~~~~~~~~~\n",
            "Matrix:\n",
            "[[3 9 6]\n",
            " [3 2 7]\n",
            " [3 2 1]]\n",
            "\n",
            "Shape:\t(3, 3)\n",
            "Size: \t9\n",
            "Rank:\t2\n",
            "Is Square: True\n",
            "Zero: False\n",
            "Ones: False\n",
            "Identity: False\n",
            "~~~~~~~~~~~~~~~~~~~~~~~~~~~~~~~~~~~~~~~~~~~~~~~~~~~~~~~~~~~~\n",
            "Matrix:\n",
            "[[5 8 4]\n",
            " [2 1 5]\n",
            " [6 4 7]]\n",
            "\n",
            "Shape:\t(3, 3)\n",
            "Size: \t9\n",
            "Rank:\t2\n",
            "Is Square: True\n",
            "Zero: False\n",
            "Ones: False\n",
            "Identity: False\n",
            "~~~~~~~~~~~~~~~~~~~~~~~~~~~~~~~~~~~~~~~~~~~~~~~~~~~~~~~~~~~~\n"
          ]
        }
      ],
      "source": [
        "import numpy as np\n",
        "E = np.zeros([4, 4])\n",
        "D = np.ones([5, 5])\n",
        "H = np.identity(3)\n",
        "A = np.array([[3, 9, 6],[3, 2, 7],[3, 2, 1]])\n",
        "R = np.array([[5, 8, 4], [2, 1, 5], [6, 4, 7]])\n",
        "\n",
        "\n",
        "def describe_mat(matrix):\n",
        "    if matrix.size > 0:\n",
        "        is_square = True if matrix.shape[0] == matrix.shape[1] else False\n",
        "        print(\n",
        "            f'Matrix:\\n{matrix}\\n\\nShape:\\t{matrix.shape}\\nSize: \\t{matrix.size}\\nRank:\\t{matrix.ndim}\\nIs Square: {is_square}')\n",
        "        \n",
        "        Sum = sum(matrix)\n",
        "        sums = sum(Sum)\n",
        "        diag = np.diagonal(matrix)\n",
        "        result = 1\n",
        "        for x in diag:\n",
        "            result = result * x\n",
        "        if sums == 0:\n",
        "            print(\"Zero:\", True)\n",
        "            print(\"Ones:\", False)\n",
        "            print('Identity:', False)\n",
        "        elif sums == matrix.size:\n",
        "            print(\"Zero:\", False)\n",
        "            print(\"Ones:\", True)\n",
        "            print('Identity:', False)\n",
        "        elif result == 1:\n",
        "            print(\"Zero:\", False)\n",
        "            print(\"Ones:\", False)\n",
        "            print('Identity:',True)\n",
        "        else:\n",
        "            print(\"Zero:\", False)\n",
        "            print(\"Ones:\", False)\n",
        "            print('Identity:', False)\n",
        "    else:\n",
        "        print('Matrix is Null')\n",
        "\n",
        "describe_mat(E)\n",
        "print(\"~\" * 60)\n",
        "describe_mat(D)\n",
        "print(\"~\" * 60)\n",
        "describe_mat(H)\n",
        "print(\"~\" * 60)\n",
        "describe_mat(A)\n",
        "print(\"~\" * 60)\n",
        "describe_mat(R)\n",
        "print(\"~\" * 60)"
      ]
    },
    {
      "cell_type": "markdown",
      "source": [
        "### Arithmetic in Matrices"
      ],
      "metadata": {
        "id": "cNzaGjoL9POH"
      }
    },
    {
      "cell_type": "code",
      "source": [
        "import numpy as np\n",
        "\n",
        "\n",
        "V1 = np.array([[1, 7, 9], [1, 3, 1], [5, 1, 6]])\n",
        "V2 = np.array([[2, 6, 9], [9, 3, 5], [8, 3, 6]])\n",
        "V3 = np.array([[6, 6, 6], [9, 4, 5], [5, 6, 2]])\n",
        "V4 = np.identity(3)\n",
        "V5 = np.zeros([3,3])\n",
        "\n",
        "\n",
        "\n",
        "print(\"Shape of V1: \", V1.shape, \"Shape of V2: \", V2.shape,\"Shape of V3: \",\n",
        "      V3.shape,\"Shape of V4: \", V4.shape,\"Shape of V5: \", V5.shape,)\n",
        "\n",
        "\n",
        "\n",
        "def Commutative_Property(M1, M2):\n",
        "    V1V2 = np.dot(M1, M2)\n",
        "    V2V1 = np.dot(M2, M1)\n",
        "    print(\"Commutative Property\" '\\n')\n",
        "    print(\"V1V2\" '\\n', V1V2)\n",
        "    print(\"V2V1\" '\\n', V2V1)\n",
        "    print(\"~\" *64)\n",
        "\n",
        "def Associative_Property(M1, M2, M3):\n",
        "    V2V3 = np.dot(M2, M3)\n",
        "    V2V3V1 = np.dot(M1, V2V3)\n",
        "    V1V2 = np.dot(M1, M2)\n",
        "    V1V2V3 = np.dot(V1V2, M3)\n",
        "    print(\"Associative Property\" '\\n')\n",
        "    print(\"V1V2V3\" '\\n', V1V2V3)\n",
        "    print(\"V2V3V1\" '\\n', V2V3V1)\n",
        "    print(\"~\" *64)\n",
        "\n",
        "\n",
        "def Distributive_Property(M1, M2, M3):\n",
        "    V2V3 = np.add(M2, M3)\n",
        "    V1V2V3 = np.dot(M1, V2V3)\n",
        "    V1V2 = np.dot(M1, M2)\n",
        "    V1V3 = np.dot(M1, M3)\n",
        "    print(\"Distributive Property\" '\\n')\n",
        "    print(\"V1V2V3\")\n",
        "    print(V1V2V3, '\\n   =\\n', V1V2 + V1V3)\n",
        "\n",
        "    V2V3V1 = np.dot(V2, M1)\n",
        "    V2V1 = np.dot(M2, M1)\n",
        "    V3V1 = np.dot(M3, M1)\n",
        "    print(\"V2V3V1\")\n",
        "    print(V2V3V1, '\\n    =\\n', V2V1 + V3V1)\n",
        "    print(\"~\" *64)\n",
        "\n",
        "\n",
        "def Multiplicative_Identity_Property(M1, MIP):\n",
        "    print(\"Multiplicative Identity Property\" '\\n')\n",
        "    Identity = np.dot(M1, MIP)\n",
        "    print(Identity, '\\n   =\\n', M1)\n",
        "    print(\"~\" *64)\n",
        "\n",
        "\n",
        "def Multiplicative_Property_of_zero(M1, Zero):\n",
        "    print(\"Multiplicative Property of Zero\" '\\n')\n",
        "    Z = np.dot(M1, Zero)\n",
        "    print(Z, '\\n   =\\n', Zero)\n",
        "    print(\"~\" *64)\n",
        "\n",
        "\n",
        "def Dimension_Property(M1, M2):\n",
        "  A = M1.shape[0]\n",
        "  B = M2.shape[1]\n",
        "  print(A, B)\n",
        "\n",
        "Commutative_Property(V1, V2)\n",
        "Associative_Property(V1, V2, V3)\n",
        "Distributive_Property(V1, V2, V3)\n",
        "Multiplicative_Identity_Property(V1, V4)\n",
        "Multiplicative_Property_of_zero(V1, V5)\n",
        "Dimension_Property(V1,V5)"
      ],
      "metadata": {
        "colab": {
          "base_uri": "https://localhost:8080/"
        },
        "id": "C_YYSBVb9T4N",
        "outputId": "2cd28762-76b9-47ff-c47c-e5793c6618c0"
      },
      "execution_count": null,
      "outputs": [
        {
          "output_type": "stream",
          "name": "stdout",
          "text": [
            "Shape of V1:  (3, 3) Shape of V2:  (3, 3) Shape of V3:  (3, 3) Shape of V4:  (3, 3) Shape of V5:  (3, 3)\n",
            "Commutative Property\n",
            "\n",
            "V1V2\n",
            " [[137  54  98]\n",
            " [ 37  18  30]\n",
            " [ 67  51  86]]\n",
            "V2V1\n",
            " [[ 53  41  78]\n",
            " [ 37  77 114]\n",
            " [ 41  71 111]]\n",
            "~~~~~~~~~~~~~~~~~~~~~~~~~~~~~~~~~~~~~~~~~~~~~~~~~~~~~~~~~~~~~~~~\n",
            "Associative Property\n",
            "\n",
            "V1V2V3\n",
            " [[1798 1626 1288]\n",
            " [ 534  474  372]\n",
            " [1291 1122  829]]\n",
            "V2V3V1\n",
            " [[1798 1626 1288]\n",
            " [ 534  474  372]\n",
            " [1291 1122  829]]\n",
            "~~~~~~~~~~~~~~~~~~~~~~~~~~~~~~~~~~~~~~~~~~~~~~~~~~~~~~~~~~~~~~~~\n",
            "Distributive Property\n",
            "\n",
            "V1V2V3\n",
            "[[251 142 157]\n",
            " [ 75  42  53]\n",
            " [136 121 133]] \n",
            "   =\n",
            " [[251 142 157]\n",
            " [ 75  42  53]\n",
            " [136 121 133]]\n",
            "V2V3V1\n",
            "[[ 53  41  78]\n",
            " [ 37  77 114]\n",
            " [ 41  71 111]] \n",
            "    =\n",
            " [[ 95 107 174]\n",
            " [ 75 157 229]\n",
            " [ 62 126 174]]\n",
            "~~~~~~~~~~~~~~~~~~~~~~~~~~~~~~~~~~~~~~~~~~~~~~~~~~~~~~~~~~~~~~~~\n",
            "Multiplicative Identity Property\n",
            "\n",
            "[[1. 7. 9.]\n",
            " [1. 3. 1.]\n",
            " [5. 1. 6.]] \n",
            "   =\n",
            " [[1 7 9]\n",
            " [1 3 1]\n",
            " [5 1 6]]\n",
            "~~~~~~~~~~~~~~~~~~~~~~~~~~~~~~~~~~~~~~~~~~~~~~~~~~~~~~~~~~~~~~~~\n",
            "Multiplicative Property of Zero\n",
            "\n",
            "[[0. 0. 0.]\n",
            " [0. 0. 0.]\n",
            " [0. 0. 0.]] \n",
            "   =\n",
            " [[0. 0. 0.]\n",
            " [0. 0. 0.]\n",
            " [0. 0. 0.]]\n",
            "~~~~~~~~~~~~~~~~~~~~~~~~~~~~~~~~~~~~~~~~~~~~~~~~~~~~~~~~~~~~~~~~\n",
            "3 3\n"
          ]
        }
      ]
    },
    {
      "cell_type": "markdown",
      "source": [
        "### Transposition"
      ],
      "metadata": {
        "id": "t7fOtUuv9W1s"
      }
    },
    {
      "cell_type": "code",
      "source": [
        "#METHOD 1 used for transposing\n",
        "\n",
        "import numpy as np\n",
        "import tensorflow as tf #importing tensorflow libarary/package\n",
        "\n",
        "matrix_trans = tf.constant([[1,2,3], [4,5,6]], dtype=tf.float32) #Using tensorflow  for transposing\n",
        "print(\"Transposed Matrix: \\n{}\\n\".format(matrix_trans))\n",
        "\n",
        "\n"
      ],
      "metadata": {
        "colab": {
          "base_uri": "https://localhost:8080/"
        },
        "id": "Oyg8AwnWcypd",
        "outputId": "2524c4a3-3345-4f5b-86a0-c26ae6a271df"
      },
      "execution_count": 42,
      "outputs": [
        {
          "output_type": "stream",
          "name": "stdout",
          "text": [
            "Transposed Matrix: \n",
            "[[1. 2. 3.]\n",
            " [4. 5. 6.]]\n",
            "\n"
          ]
        }
      ]
    },
    {
      "cell_type": "code",
      "source": [
        "#METHOD 2 used for transposing\n",
        "arr1 = [[1,2,3],[4,5,6],[7,8,9]] #Using Nested List Comprehension for transposing \n",
        "for row in arr1 :\n",
        "    print(row)\n",
        "rez = [[arr1[j][i] for j in range(len(arr1))] for i in range(len(arr1[0]))]\n",
        "print(\"\\n\")\n",
        "for row in rez:\n",
        "    print(row)"
      ],
      "metadata": {
        "colab": {
          "base_uri": "https://localhost:8080/"
        },
        "id": "uYYvwZbfjDa3",
        "outputId": "24609b97-6748-4b35-b26a-2162372e9ffc"
      },
      "execution_count": 43,
      "outputs": [
        {
          "output_type": "stream",
          "name": "stdout",
          "text": [
            "[1, 2, 3]\n",
            "[4, 5, 6]\n",
            "[7, 8, 9]\n",
            "\n",
            "\n",
            "[1, 4, 7]\n",
            "[2, 5, 8]\n",
            "[3, 6, 9]\n"
          ]
        }
      ]
    },
    {
      "cell_type": "markdown",
      "source": [
        "### Determinants"
      ],
      "metadata": {
        "id": "dqTpl6gn9bN_"
      }
    },
    {
      "cell_type": "markdown",
      "source": [
        "### Singular Matrices/Vectors"
      ],
      "metadata": {
        "id": "ADqeODWU9ggi"
      }
    },
    {
      "cell_type": "code",
      "source": [
        "### Rank 0 matrices\n",
        "\n",
        "import numpy as np\n",
        "\n",
        "rank_0 = np.array([[0, 0, 0]])\n",
        "\n",
        "print(\"R-0\")\n",
        "for row in rank_0:\n",
        "    print(row)\n",
        "\n",
        "rank_matrix= np.linalg.matrix_rank(rank_0) #calculates the Matrix rank of a given matrix using the SVD method\n",
        "print(\"Rank of the given Matrix is : \",rank_matrix) #Get the rank of the matrix\n"
      ],
      "metadata": {
        "id": "OKhJFKBr9hJM",
        "colab": {
          "base_uri": "https://localhost:8080/"
        },
        "outputId": "f9cc28e3-253d-4024-cdc0-f2e247a1fdf3"
      },
      "execution_count": 58,
      "outputs": [
        {
          "output_type": "stream",
          "name": "stdout",
          "text": [
            "R-0\n",
            "[0 0 0]\n",
            "Rank of the given Matrix is :  0\n"
          ]
        }
      ]
    },
    {
      "cell_type": "code",
      "source": [
        "### Rank 1 Matrices\n",
        "\n",
        "import numpy as np\n",
        "\n",
        "rank_1 = np.array ([[1,0,0],[1,0,0]])\n",
        "print(\"Matrix R-1\")\n",
        "for row in rank_1:\n",
        "    print(row)\n",
        "\n",
        "rank_matrix = np.linalg.matrix_rank(rank_1) #calculates the Matrix rank of a given matrix using the SVD method\n",
        "print(\"Rank of the given Matrix is : \",rank_matrix) #Get the rank of the matrix"
      ],
      "metadata": {
        "id": "DgYQb0q09hQt",
        "colab": {
          "base_uri": "https://localhost:8080/"
        },
        "outputId": "58616429-47a4-4366-f42c-b088f6194476"
      },
      "execution_count": 55,
      "outputs": [
        {
          "output_type": "stream",
          "name": "stdout",
          "text": [
            "Matrix R-1\n",
            "[1 0 0]\n",
            "[1 0 0]\n",
            "Rank of the given Matrix is :  1\n"
          ]
        }
      ]
    },
    {
      "cell_type": "code",
      "source": [
        "### Rank 2 Matrices\n",
        "\n",
        "import numpy as np\n",
        "\n",
        "rank_2 = np.array([[1, 2, 1], [3, 4, 7], [3, 6, 3]])\n",
        "print(\"Matrix R-2\")\n",
        "for row in rank_2:\n",
        "    print(row)\n",
        "\n",
        "rank_matrix= np.linalg.matrix_rank(rank_2) #calculates the Matrix rank of a given matrix using the SVD method\n",
        "print(\"Rank of the given Matrix is : \",rank_matrix) #Get the rank of the matrix\n",
        "\n"
      ],
      "metadata": {
        "id": "Oa-Mfu939hZB",
        "colab": {
          "base_uri": "https://localhost:8080/"
        },
        "outputId": "52295797-54f8-4a2b-9336-cb9cefeda348"
      },
      "execution_count": 56,
      "outputs": [
        {
          "output_type": "stream",
          "name": "stdout",
          "text": [
            "Matrix R-2\n",
            "[1 2 1]\n",
            "[3 4 7]\n",
            "[3 6 3]\n",
            "Rank of the given Matrix is :  2\n"
          ]
        }
      ]
    },
    {
      "cell_type": "code",
      "source": [
        "### Rank N and N-1 Matrices\n",
        "\n",
        "#RANK N \n",
        "a = np.matrix('1 2; 3 4') #If A is of order n×n and |A| ≠ 0, then the rank of A = n.\n",
        "a\n",
        "\n",
        "#RANK N-1"
      ],
      "metadata": {
        "id": "e_YXkuJN9hgn",
        "colab": {
          "base_uri": "https://localhost:8080/"
        },
        "outputId": "5c70b588-fb2b-4206-f9cb-eb7bc2bfd09a"
      },
      "execution_count": 76,
      "outputs": [
        {
          "output_type": "execute_result",
          "data": {
            "text/plain": [
              "matrix([[1, 2],\n",
              "        [3, 4]])"
            ]
          },
          "metadata": {},
          "execution_count": 76
        }
      ]
    },
    {
      "cell_type": "markdown",
      "source": [
        "### Symmetric Vectors"
      ],
      "metadata": {
        "id": "yxH_I6Wu9h6Q"
      }
    },
    {
      "cell_type": "code",
      "source": [
        "import numpy as np\n",
        "\n",
        "arr1 = np.array([[ 2, 4, 5 ],\n",
        "              [ 4, 2, 7 ],\n",
        "              [ 5, 7, 2 ]])\n",
        "\n",
        "arr1_trans = arr1.transpose() #Transpose of given array\n",
        "\n",
        "print(arr1)\n",
        "print(\"\\n\")\n",
        "\n",
        "if arr1.shape == arr1_trans.shape: # To check if both 'arr1' and the transposed 'arr1' arrays are equal in size\n",
        "\n",
        "    # comparing the arrays using == and all() method\n",
        "    if (arr1 == arr1_trans).all():\n",
        "        print(\"The Array is Symmetric\")\n",
        "    else:\n",
        "        print(\"The Array is Not Symmetric\")\n",
        "else:\n",
        "    print(\"The Array is Not Symmetric\")"
      ],
      "metadata": {
        "id": "9raB9rZq9kO0",
        "colab": {
          "base_uri": "https://localhost:8080/"
        },
        "outputId": "11fda83c-9dfe-420d-beea-ecabfb90f212"
      },
      "execution_count": 64,
      "outputs": [
        {
          "output_type": "stream",
          "name": "stdout",
          "text": [
            "[[2 4 5]\n",
            " [4 2 7]\n",
            " [5 7 2]]\n",
            "\n",
            "\n",
            "The Array is Symmetric\n"
          ]
        }
      ]
    },
    {
      "cell_type": "markdown",
      "source": [
        "### Invertible Matrices"
      ],
      "metadata": {
        "id": "fiNUhbEv9nCi"
      }
    },
    {
      "cell_type": "code",
      "source": [
        "import numpy as np\n",
        "  \n",
        "arr1 = np.array([[2, 4, 3],\n",
        "              [2, -2, 5],\n",
        "              [3, -9, 4]])\n",
        "  \n",
        "\n",
        "print(np.linalg.inv(arr1)) ## Calculating the inverse of the matrix"
      ],
      "metadata": {
        "id": "kwem5axJ9nkF",
        "colab": {
          "base_uri": "https://localhost:8080/"
        },
        "outputId": "c6e0b665-0d23-4687-dd89-e7b4fda7223d"
      },
      "execution_count": 73,
      "outputs": [
        {
          "output_type": "stream",
          "name": "stdout",
          "text": [
            "[[ 0.56060606 -0.65151515  0.39393939]\n",
            " [ 0.10606061 -0.01515152 -0.06060606]\n",
            " [-0.18181818  0.45454545 -0.18181818]]\n"
          ]
        }
      ]
    }
  ]
}